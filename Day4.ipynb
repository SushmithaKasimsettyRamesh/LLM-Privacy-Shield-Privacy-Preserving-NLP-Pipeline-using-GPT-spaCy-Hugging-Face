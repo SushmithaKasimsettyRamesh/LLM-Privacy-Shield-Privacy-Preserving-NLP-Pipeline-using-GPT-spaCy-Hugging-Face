{
  "nbformat": 4,
  "nbformat_minor": 0,
  "metadata": {
    "colab": {
      "provenance": [],
      "authorship_tag": "ABX9TyNnK6pG/GQ4JuUIQcF12s0r",
      "include_colab_link": true
    },
    "kernelspec": {
      "name": "python3",
      "display_name": "Python 3"
    },
    "language_info": {
      "name": "python"
    }
  },
  "cells": [
    {
      "cell_type": "markdown",
      "metadata": {
        "id": "view-in-github",
        "colab_type": "text"
      },
      "source": [
        "<a href=\"https://colab.research.google.com/github/SushmithaKasimsettyRamesh/LLM-Privacy-Shield-Privacy-Preserving-NLP-Pipeline-using-GPT-spaCy-Hugging-Face/blob/main/Day4.ipynb\" target=\"_parent\"><img src=\"https://colab.research.google.com/assets/colab-badge.svg\" alt=\"Open In Colab\"/></a>"
      ]
    },
    {
      "cell_type": "code",
      "execution_count": null,
      "metadata": {
        "id": "dL8fzitAlDub"
      },
      "outputs": [],
      "source": [
        "!pip install -q spacy\n",
        "import spacy\n",
        "nlp = spacy.load(\"en_core_web_sm\")\n"
      ]
    },
    {
      "cell_type": "markdown",
      "source": [
        "# 🔐 Day 4: Entity Memory + Selective Remapping\n",
        "This notebook enhances the LLM Privacy Shield by:\n",
        "- Ensuring repeated entities (like names) are mapped to the same token\n",
        "- Allowing selective remapping of certain PII (e.g., keep emails masked)\n",
        "\n",
        "✅ Smarter masking  \n",
        "✅ Consistent outputs  \n",
        "✅ More control for users\n"
      ],
      "metadata": {
        "id": "Pgf5LGVImYxX"
      }
    },
    {
      "cell_type": "code",
      "source": [
        "def mask_text_with_memory(text, nlp, memory=None):\n",
        "    if memory is None:\n",
        "        memory = {}\n",
        "\n",
        "    doc = nlp(text)\n",
        "    token_map = {}\n",
        "    masked_text = text\n",
        "    counters = {\n",
        "        \"PERSON\": 1,\n",
        "        \"ORG\": 1,\n",
        "        \"GPE\": 1,\n",
        "        \"EMAIL\": 1  # placeholder if you add regex-based email detection\n",
        "    }\n",
        "\n",
        "    for ent in doc.ents:\n",
        "        if ent.label_ in counters:\n",
        "            ent_text = ent.text\n",
        "            label = ent.label_\n",
        "\n",
        "            if ent_text in memory:\n",
        "                token = memory[ent_text]\n",
        "            else:\n",
        "                token = f\"{{{{{label}_{counters[label]}}}}}\"\n",
        "                memory[ent_text] = token\n",
        "                counters[label] += 1\n",
        "\n",
        "            if token not in masked_text:\n",
        "                masked_text = masked_text.replace(ent_text, token)\n",
        "                token_map[token] = ent_text\n",
        "\n",
        "    return masked_text, token_map, memory\n"
      ],
      "metadata": {
        "id": "mC1JYOr9mqjD"
      },
      "execution_count": null,
      "outputs": []
    },
    {
      "cell_type": "code",
      "source": [
        "def remap_output(llm_response, token_map, skip=None):\n",
        "    if skip is None:\n",
        "        skip = []\n",
        "\n",
        "    for token, original in token_map.items():\n",
        "        if token not in skip:\n",
        "            llm_response = llm_response.replace(token, original)\n",
        "\n",
        "    return llm_response\n"
      ],
      "metadata": {
        "id": "FmlBRJ2DnfD7"
      },
      "execution_count": null,
      "outputs": []
    },
    {
      "cell_type": "code",
      "source": [
        "text = \"John Smith met John Smith at Acme Corp. Then he emailed john.smith@acme.com\"\n",
        "\n",
        "# Mask\n",
        "masked, token_map, memory = mask_text_with_memory(text, nlp)\n",
        "print(\"🔹 Masked Text:\\n\", masked)\n",
        "print(\"🔹 Token Map:\", token_map)\n",
        "print(\"🔹 Memory:\", memory)\n",
        "\n",
        "# Simulate LLM output using masked text\n",
        "llm_output = masked + \" They signed a contract.\"\n",
        "\n",
        "# Remap (without skipping)\n",
        "final_output = remap_output(llm_output, token_map)\n",
        "print(\"\\n✅ Final Remapped Output:\\n\", final_output)\n",
        "\n",
        "# Remap (with skip toggle)\n",
        "final_skipped = remap_output(llm_output, token_map, skip=[\"{{EMAIL_1}}\"])\n",
        "print(\"\\n🚫 Skipping Email Remap:\\n\", final_skipped)\n"
      ],
      "metadata": {
        "id": "8Wzyx1frng-N",
        "outputId": "bf74afc0-00ef-4c91-f570-5b2fadab89d4",
        "colab": {
          "base_uri": "https://localhost:8080/"
        }
      },
      "execution_count": null,
      "outputs": [
        {
          "output_type": "stream",
          "name": "stdout",
          "text": [
            "🔹 Masked Text:\n",
            " {{PERSON_1}} met {{PERSON_1}} at {{ORG_1}} Then he emailed john.smith@acme.com\n",
            "🔹 Token Map: {'{{PERSON_1}}': 'John Smith', '{{ORG_1}}': 'Acme Corp.'}\n",
            "🔹 Memory: {'John Smith': '{{PERSON_1}}', 'Acme Corp.': '{{ORG_1}}'}\n",
            "\n",
            "✅ Final Remapped Output:\n",
            " John Smith met John Smith at Acme Corp. Then he emailed john.smith@acme.com They signed a contract.\n",
            "\n",
            "🚫 Skipping Email Remap:\n",
            " John Smith met John Smith at Acme Corp. Then he emailed john.smith@acme.com They signed a contract.\n"
          ]
        }
      ]
    },
    {
      "cell_type": "markdown",
      "source": [
        "## ✅ Summary\n",
        "\n",
        "This notebook added:\n",
        "- 🧠 Memory dictionary to ensure consistent tokens (e.g., same name → same token)\n",
        "- ⚙️ Optional `skip` toggle to control what gets remapped back\n",
        "- 🧪 Simple end-to-end test showing how input flows to final output\n",
        "\n",
        "➡️ You're now ready to wrap this pipeline into an API or app (FastAPI next).\n"
      ],
      "metadata": {
        "id": "jY1Ho8q6nmQ3"
      }
    }
  ]
}